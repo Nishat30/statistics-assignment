{
  "metadata": {
    "kernelspec": {
      "name": "python",
      "display_name": "Python (Pyodide)",
      "language": "python"
    },
    "language_info": {
      "codemirror_mode": {
        "name": "python",
        "version": 3
      },
      "file_extension": ".py",
      "mimetype": "text/x-python",
      "name": "python",
      "nbconvert_exporter": "python",
      "pygments_lexer": "ipython3",
      "version": "3.8"
    }
  },
  "nbformat_minor": 5,
  "nbformat": 4,
  "cells": [
    {
      "id": "e918f731-bc60-4296-a47d-17845558c4c7",
      "cell_type": "code",
      "source": "# Q1.What are the three measures of central tendency?\n# Answer:\n# The three measures of central tendency are:\n# Mean: The average of all data points.\n# Median: The middle value in an ordered dataset.\n# Mode: The value that appears most frequently.",
      "metadata": {
        "trusted": true
      },
      "outputs": [],
      "execution_count": 2
    },
    {
      "id": "c33584f7-d99b-49e0-ad2a-4843f53955d3",
      "cell_type": "code",
      "source": "# Q2.What is the difference between the mean, median, and mode? How are they used?\n# Answer:\n# Mean is sensitive to outliers and represents the arithmetic average.\n# Median is the middle value and is resistant to outliers.\n# Mode represents the most frequent value in the dataset.\n# They help describe the \"central\" value of a dataset in different ways.",
      "metadata": {
        "trusted": true
      },
      "outputs": [],
      "execution_count": 3
    },
    {
      "id": "4336c4ab-79af-4738-8111-9115d0ec9474",
      "cell_type": "code",
      "source": "#  Q3. Measure the three measures of central tendency for the given height data:\n# [178,177,176,177,178.2,178,175,179,180,175,178.9,176.2,177,172.5,178,176.5]\nimport numpy as np\nfrom scipy import stats\n\ndata = [178,177,176,177,178.2,178,175,179,180,175,178.9,176.2,177,172.5,178,176.5]\n\nmean = np.mean(data)\nmedian = np.median(data)\nmode_val = stats.mode(data)\n\nprint(\"Mean:\", mean)\nprint(\"Median:\", median)\nprint(\"Mode:\", mode_val)",
      "metadata": {
        "trusted": true
      },
      "outputs": [
        {
          "name": "stdout",
          "output_type": "stream",
          "text": "Mean: 177.01875\nMedian: 177.0\nMode: ModeResult(mode=np.float64(177.0), count=np.int32(3))\n"
        }
      ],
      "execution_count": 9
    },
    {
      "id": "7392e3b0-e268-44e3-a394-244de9eeff60",
      "cell_type": "code",
      "source": "# Q4. Find the standard deviation for the given data:\n# [178,177,176,177,178.2,178,175,179,180,175,178.9,176.2,177,172.5,178,176.5]\nimport numpy as np\ndata = [178,177,176,177,178.2,178,175,179,180,175,178.9,176.2,177,172.5,178,176.5]                               \nstd_dev = np.std(data)\nprint(\"Standard Deviation:\", std_dev)",
      "metadata": {
        "trusted": true
      },
      "outputs": [
        {
          "name": "stdout",
          "output_type": "stream",
          "text": "Standard Deviation: 1.7885814036548633\n"
        }
      ],
      "execution_count": 11
    },
    {
      "id": "cea8759a-8a93-4813-928b-f8247047b5ae",
      "cell_type": "code",
      "source": "# Q5.How are measures of dispersion used? Provide an example.\n# Answer:\n# Range shows the difference between the highest and lowest values.Variance measures the average squared deviation from the mean.\n# Standard Deviation is the square root of variance and describes spread in original units.\n# Example: If two classes have the same average marks but one class has marks ranging from 30–90 while another has marks from 60–80, the first class has more dispersion.",
      "metadata": {
        "trusted": true
      },
      "outputs": [],
      "execution_count": 12
    },
    {
      "id": "121eef3f-9da4-4d0a-9567-eb2039f27989",
      "cell_type": "code",
      "source": "# Q6.What is a Venn diagram?\n# Answer:A Venn diagram is a graphical representation of sets showing their relationships through overlapping circles.",
      "metadata": {
        "trusted": true
      },
      "outputs": [],
      "execution_count": 13
    },
    {
      "id": "bfab7a8a-7ccd-4aa9-92c1-79ed41549536",
      "cell_type": "code",
      "source": "A = {2,3,4,5,6,7}\nB = {0,2,6,8,10}\n# (i) A ∩ B (Intersection)\nprint(\"A ∩ B:\", A & B)\n# (ii) A ⋃ B (Union)\nprint(\"A ⋃ B:\", A | B)",
      "metadata": {
        "trusted": true
      },
      "outputs": [
        {
          "name": "stdout",
          "output_type": "stream",
          "text": "A ∩ B: {2, 6}\nA ⋃ B: {0, 2, 3, 4, 5, 6, 7, 8, 10}\n"
        }
      ],
      "execution_count": 14
    },
    {
      "id": "2ca9a9e7-e934-4e05-a513-fab9fbdbd63f",
      "cell_type": "code",
      "source": "# Q8.What do you understand about skewness in data?\n# Answer:Skewness describes the asymmetry of the distribution.\n# Right-skewed: Tail is on the right.\n# Left-skewed: Tail is on the left.\n# Symmetrical: Mean = Median = Mode.",
      "metadata": {
        "trusted": true
      },
      "outputs": [],
      "execution_count": 15
    },
    {
      "id": "9f9faeb7-308b-4ad4-a48a-f0bd665d08a1",
      "cell_type": "code",
      "source": "# Q9.If data is right-skewed, where is the median?\n# Answer: In right-skewed data: Mean > Median",
      "metadata": {
        "trusted": true
      },
      "outputs": [],
      "execution_count": 16
    },
    {
      "id": "daf60d06-b01e-4abe-86c8-0fc69fcfc2d9",
      "cell_type": "code",
      "source": "# Q10.Difference between covariance and correlation:\n# Answer:Covariance: Measures how two variables vary together. \n# Correlation:Standardized form of covariance; ranges from -1 to 1.\n#     They are used to understand relationships between variables.",
      "metadata": {
        "trusted": true
      },
      "outputs": [],
      "execution_count": 17
    },
    {
      "id": "9d7fc94c-ebad-41a4-a86e-9ab07c2f3cb3",
      "cell_type": "markdown",
      "source": "# Q11. Formula for sample mean:\n$$\n\\bar{x} = \\frac{1}{n} \\sum_{i=1}^{n} x_i\n$$\n ",
      "metadata": {}
    },
    {
      "id": "aaab107b-27ab-40bd-b5f1-6f40b1ad4650",
      "cell_type": "code",
      "source": "# Example Calculation:\nsample = [10, 20, 30, 40, 50]\nsample_mean = sum(sample) / len(sample)\nprint(\"Sample Mean:\", sample_mean)",
      "metadata": {
        "trusted": true
      },
      "outputs": [
        {
          "name": "stdout",
          "output_type": "stream",
          "text": "Sample Mean: 30.0\n"
        }
      ],
      "execution_count": 19
    },
    {
      "id": "efa871dd-3223-4f1e-92f6-34e68717f142",
      "cell_type": "code",
      "source": "# Q12.For a normal distribution data what is the relationship between its measure of central tendency?\n# Answer:In a normal distribution,\n#        Mean=Median=Mode",
      "metadata": {
        "trusted": true
      },
      "outputs": [],
      "execution_count": 20
    },
    {
      "id": "16025f52-d6cc-4996-9a74-f1b7834bb21e",
      "cell_type": "code",
      "source": "# Q13.How is covariance different from correlation?\n# Answer:Covariance measures direction of relationship.Correlation measures both strength and direction (normalized).",
      "metadata": {
        "trusted": true
      },
      "outputs": [],
      "execution_count": 21
    },
    {
      "id": "bb68e6bb-9fb7-485a-a577-b0887af0d11f",
      "cell_type": "code",
      "source": "# Q14.How do outliers affect central tendency and dispersion?\n# Answer:Outliers can:Pull mean towards them.\n#                     Have less effect on median and mode.\n#                     Increase standard deviation and range.\n\n# Example:\n# In [2, 4, 6, 8, 100], the mean is affected more than the median.",
      "metadata": {
        "trusted": true
      },
      "outputs": [],
      "execution_count": null
    }
  ]
}